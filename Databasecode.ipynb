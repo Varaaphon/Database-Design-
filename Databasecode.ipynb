{
 "cells": [
  {
   "cell_type": "markdown",
   "metadata": {},
   "source": [
    "Here is link to the deepnote where all the relevant details are already present. Pleae refer to Notebook 3 in the code. Notebook 1 is ASN 01, Notebook 2 is ASN 05. \n",
    "\n",
    "https://deepnote.com/workspace/new-space-b03f-ebbc7bea-7a13-4cd0-8276-a8f010c0d2b4/project/DEVYA-SHAHs-Untitled-project-efdbb007-c47e-4cc7-aaef-b2123bd3995b/notebook/Notebook-3-8fca099c59ba4f7198d0120251b83b7d?utm_source=share-modal&utm_medium=product-shared-content&utm_campaign=notebook&utm_content=efdbb007-c47e-4cc7-aaef-b2123bd3995b\n"
   ]
  }
 ],
 "metadata": {
  "language_info": {
   "name": "python"
  }
 },
 "nbformat": 4,
 "nbformat_minor": 2
}
