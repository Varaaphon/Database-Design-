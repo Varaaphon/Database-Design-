{
 "cells": [
  {
   "cell_type": "code",
   "execution_count": null,
   "metadata": {
    "vscode": {
     "languageId": "plaintext"
    }
   },
   "outputs": [],
   "source": [
    "-- This is the layout of the manger table\n",
    "-- Citations: https://www.atlassian.com/data/admin/how-to-define-an-auto-increment-primary-key-in-postgresql\n",
    "CREATE TABLE Manager (\n",
    "    Manager_ID SERIAL PRIMARY KEY,\n",
    "    Manager_name VARCHAR(100) NOT NULL,\n",
    "    Manager_nationality VARCHAR(50)\n",
    ");"
   ]
  },
  {
   "cell_type": "code",
   "execution_count": null,
   "metadata": {
    "vscode": {
     "languageId": "plaintext"
    }
   },
   "outputs": [],
   "source": [
    "-- This is the layout of the player table\n",
    "CREATE TABLE Player (\n",
    "    Player_ID SERIAL PRIMARY KEY,\n",
    "    Name VARCHAR(100) NOT NULL,\n",
    "    Position VARCHAR(50),\n",
    "    Jersey_number INT,\n",
    "    No_of_yellow_cards INT DEFAULT 0,\n",
    "    No_of_red_cards INT DEFAULT 0,\n",
    "    No_of_goals INT DEFAULT 0,\n",
    "    No_of_assists INT DEFAULT 0\n",
    ");"
   ]
  },
  {
   "cell_type": "code",
   "execution_count": null,
   "metadata": {
    "vscode": {
     "languageId": "plaintext"
    }
   },
   "outputs": [],
   "source": [
    "-- This is goalkeeper table, extended from the Player table\n",
    "CREATE TABLE Goalkeeper (\n",
    "    Goalkeeper_ID SERIAL PRIMARY KEY,\n",
    "    Player_ID INT NOT NULL,\n",
    "    Suspension_status BOOLEAN DEFAULT FALSE,\n",
    "    No_of_goals_conceded INT DEFAULT 0,\n",
    "    No_of_clean_sheets INT DEFAULT 0,\n",
    "    FOREIGN KEY (Player_ID) REFERENCES Player(Player_ID)\n",
    ");\n"
   ]
  },
  {
   "cell_type": "code",
   "execution_count": null,
   "metadata": {
    "vscode": {
     "languageId": "plaintext"
    }
   },
   "outputs": [],
   "source": [
    "-- A table for team, linked to manager and stadium because there can only be one manager and stadium at any given time per team \n",
    "CREATE TABLE Team (\n",
    "    Team_ID SERIAL PRIMARY KEY,\n",
    "    Team_name VARCHAR(100) NOT NULL,\n",
    "    Team_Manager_ID INT,\n",
    "    League_name VARCHAR(100),\n",
    "    Stadium_ID INT, \n",
    "    FOREIGN KEY (Team_Manager_ID) REFERENCES Manager(Manager_ID),\n",
    "    FOREIGN KEY (Stadium_ID) REFERENCES Stadium(Stadium_ID)\n",
    ");"
   ]
  },
  {
   "cell_type": "code",
   "execution_count": null,
   "metadata": {
    "vscode": {
     "languageId": "plaintext"
    }
   },
   "outputs": [],
   "source": [
    "-- \n",
    "CREATE TABLE Stadium (\n",
    "    Stadium_ID SERIAL PRIMARY KEY,\n",
    "    Stadium_name VARCHAR(100) NOT NULL,\n",
    "    Stadium_location VARCHAR(100)\n",
    ");"
   ]
  }
 ],
 "metadata": {
  "language_info": {
   "name": "python"
  }
 },
 "nbformat": 4,
 "nbformat_minor": 2
}
