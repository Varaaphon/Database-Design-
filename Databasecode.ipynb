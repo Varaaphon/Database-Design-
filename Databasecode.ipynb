{
 "cells": [
  {
   "cell_type": "code",
   "execution_count": null,
   "metadata": {
    "vscode": {
     "languageId": "plaintext"
    }
   },
   "outputs": [],
   "source": [
    "-- This is the layout of the manger table\n",
    "-- Citations: https://www.atlassian.com/data/admin/how-to-define-an-auto-increment-primary-key-in-postgresql\n",
    "CREATE TABLE Manager (\n",
    "    Manager_ID SERIAL PRIMARY KEY,\n",
    "    Manager_name VARCHAR(100) NOT NULL,\n",
    "    Manager_nationality VARCHAR(50)\n",
    ");"
   ]
  },
  {
   "cell_type": "code",
   "execution_count": null,
   "metadata": {
    "vscode": {
     "languageId": "plaintext"
    }
   },
   "outputs": [],
   "source": [
    "-- This is the layout of the player table\n",
    "CREATE TABLE Player (\n",
    "    Player_ID SERIAL PRIMARY KEY,\n",
    "    Name VARCHAR(100) NOT NULL,\n",
    "    Position VARCHAR(50),\n",
    "    Jersey_number INT,\n",
    "    No_of_yellow_cards INT DEFAULT 0,\n",
    "    No_of_red_cards INT DEFAULT 0,\n",
    "    No_of_goals INT DEFAULT 0,\n",
    "    No_of_assists INT DEFAULT 0\n",
    ");"
   ]
  }
 ],
 "metadata": {
  "language_info": {
   "name": "python"
  }
 },
 "nbformat": 4,
 "nbformat_minor": 2
}
