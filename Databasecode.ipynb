{
 "cells": [
  {
   "cell_type": "code",
   "execution_count": null,
   "metadata": {
    "vscode": {
     "languageId": "plaintext"
    }
   },
   "outputs": [],
   "source": [
    "-- This is the stadium table\n",
    "CREATE TABLE Stadium (\n",
    "    Stadium_ID SERIAL PRIMARY KEY,\n",
    "    Stadium_name VARCHAR(100) NOT NULL,\n",
    "    Stadium_location VARCHAR(100),\n",
    "    Capacity INT              \n",
    ");"
   ]
  },
  {
   "cell_type": "code",
   "execution_count": null,
   "metadata": {
    "vscode": {
     "languageId": "plaintext"
    }
   },
   "outputs": [],
   "source": [
    "-- This is the table for job description of the officials\n",
    "CREATE TABLE Official_Job (\n",
    "    JobID SERIAL PRIMARY KEY,\n",
    "    JobDescription VARCHAR(255)\n",
    ");"
   ]
  },
  {
   "cell_type": "code",
   "execution_count": null,
   "metadata": {
    "vscode": {
     "languageId": "plaintext"
    }
   },
   "outputs": [],
   "source": [
    "-- This will rely on the previous table as each official will be assigned a job for the game\n",
    "CREATE TABLE Officials (\n",
    "    OfficialID SERIAL PRIMARY KEY,\n",
    "    Name VARCHAR(100),\n",
    "    Nationality VARCHAR(50),\n",
    "    Official_jobid INT,\n",
    "    Experience INT,\n",
    "    FOREIGN KEY (Official_jobid) REFERENCES Official_Job(JobID)\n",
    ");"
   ]
  },
  {
   "cell_type": "code",
   "execution_count": null,
   "metadata": {
    "vscode": {
     "languageId": "plaintext"
    }
   },
   "outputs": [],
   "source": [
    "-- This stadium is for teams that are in the league\n",
    "CREATE TABLE Team (\n",
    "    Team_ID SERIAL PRIMARY KEY,\n",
    "    Team_name VARCHAR(100) NOT NULL,\n",
    "    League_name VARCHAR(100),\n",
    "    Foundation_Year INT,\n",
    "    Home_Stadium_ID INT,\n",
    "    FOREIGN KEY (Home_Stadium_ID) REFERENCES Stadium(Stadium_ID) ON DELETE SET NULL\n",
    ");"
   ]
  },
  {
   "cell_type": "code",
   "execution_count": null,
   "metadata": {
    "vscode": {
     "languageId": "plaintext"
    }
   },
   "outputs": [],
   "source": [
    "-- This is the layout of the manger table\n",
    "-- Citations: https://www.atlassian.com/data/admin/how-to-define-an-auto-increment-primary-key-in-postgresql\n",
    "CREATE TABLE Manager (\n",
    "    Manager_ID SERIAL PRIMARY KEY,\n",
    "    Manager_name VARCHAR(100) NOT NULL,\n",
    "    Manager_nationality VARCHAR(50)\n",
    ");"
   ]
  },
  {
   "cell_type": "code",
   "execution_count": null,
   "metadata": {
    "vscode": {
     "languageId": "plaintext"
    }
   },
   "outputs": [],
   "source": [
    "-- This is the layout of the player table\n",
    "CREATE TABLE Player (\n",
    "    Player_ID SERIAL PRIMARY KEY,\n",
    "    Name VARCHAR(100) NOT NULL,\n",
    "    Position VARCHAR(50),\n",
    "    Jersey_number INT,\n",
    "    No_of_yellow_cards INT DEFAULT 0,\n",
    "    No_of_red_cards INT DEFAULT 0,\n",
    "    No_of_goals INT DEFAULT 0,\n",
    "    No_of_assists INT DEFAULT 0,\n",
    "    Nationality VARCHAR(50),\n",
    "    Age INT,\n",
    "    Height INT,\n",
    "    Weight INT,\n",
    "    Team_ID INT,           -- Links to Team\n",
    "    Suspension_status BOOLEAN DEFAULT FALSE, -- Indicates if the player is suspended\n",
    "    FOREIGN KEY (Team_ID) REFERENCES Team(Team_ID) ON DELETE CASCADE\n",
    ");\n"
   ]
  },
  {
   "cell_type": "code",
   "execution_count": null,
   "metadata": {
    "vscode": {
     "languageId": "plaintext"
    }
   },
   "outputs": [],
   "source": [
    "-- This is goalkeeper table, extended from the Player table\n",
    "CREATE TABLE Goalkeeper (\n",
    "    Goalkeeper_ID SERIAL PRIMARY KEY,\n",
    "    Player_ID INT NOT NULL,\n",
    "    Suspension_status BOOLEAN DEFAULT FALSE,\n",
    "    No_of_goals_conceded INT DEFAULT 0,\n",
    "    No_of_clean_sheets INT DEFAULT 0,\n",
    "    IsStartingGoalkeeper BOOLEAN DEFAULT TRUE,\n",
    "    FOREIGN KEY (Player_ID) REFERENCES Player(Player_ID) ON DELETE CASCADE\n",
    ");\n"
   ]
  },
  {
   "cell_type": "code",
   "execution_count": null,
   "metadata": {
    "vscode": {
     "languageId": "plaintext"
    }
   },
   "outputs": [],
   "source": [
    "-- Team_Player Table (depends on Team and Player)\n",
    "CREATE TABLE Team_Player (\n",
    "    Team_ID INT NOT NULL,\n",
    "    Player_ID INT NOT NULL,\n",
    "    PRIMARY KEY (Team_ID, Player_ID),\n",
    "    FOREIGN KEY (Team_ID) REFERENCES Team(Team_ID),\n",
    "    FOREIGN KEY (Player_ID) REFERENCES Player(Player_ID)\n",
    ");"
   ]
  },
  {
   "cell_type": "code",
   "execution_count": null,
   "metadata": {
    "vscode": {
     "languageId": "plaintext"
    }
   },
   "outputs": [],
   "source": [
    "-- Created a team-player relation via the table\n",
    "CREATE TABLE Team_Player (\n",
    "    Team_ID INT NOT NULL,\n",
    "    Player_ID INT NOT NULL,\n",
    "    PRIMARY KEY (Team_ID, Player_ID),\n",
    "    FOREIGN KEY (Team_ID) REFERENCES Team(Team_ID),\n",
    "    FOREIGN KEY (Player_ID) REFERENCES Player(Player_ID)\n",
    ");"
   ]
  },
  {
   "cell_type": "code",
   "execution_count": null,
   "metadata": {
    "vscode": {
     "languageId": "plaintext"
    }
   },
   "outputs": [],
   "source": [
    "-- Created match table for match pairups\n",
    "CREATE TABLE Match (\n",
    "    Match_ID SERIAL PRIMARY KEY,\n",
    "    Team1_ID INT,\n",
    "    Team2_ID INT,\n",
    "    GoalsTeam1 INT DEFAULT 0,\n",
    "    GoalsTeam2 INT DEFAULT 0,\n",
    "    MatchDate DATE,\n",
    "    Competition VARCHAR(100),\n",
    "    MatchOutcome VARCHAR(50) GENERATED ALWAYS AS (\n",
    "        CASE \n",
    "            WHEN GoalsTeam1 > GoalsTeam2 THEN 'Win: ' || Team1_ID::TEXT\n",
    "            WHEN GoalsTeam1 < GoalsTeam2 THEN 'Win: ' || Team2_ID::TEXT\n",
    "            ELSE 'Draw'\n",
    "        END\n",
    "    ) STORED,\n",
    "    RefereeID INT,\n",
    "    AssistantReferee1ID INT,\n",
    "    AssistantReferee2ID INT,\n",
    "    Attendance INT,  -- New column for attendance\n",
    "    FOREIGN KEY (Team1_ID) REFERENCES Team(Team_ID),\n",
    "    FOREIGN KEY (Team2_ID) REFERENCES Team(Team_ID),\n",
    "    FOREIGN KEY (RefereeID) REFERENCES Officials(OfficialID),\n",
    "    FOREIGN KEY (AssistantReferee1ID) REFERENCES Officials(OfficialID),\n",
    "    FOREIGN KEY (AssistantReferee2ID) REFERENCES Officials(OfficialID)\n",
    ");"
   ]
  }
 ],
 "metadata": {
  "language_info": {
   "name": "python"
  }
 },
 "nbformat": 4,
 "nbformat_minor": 2
}
